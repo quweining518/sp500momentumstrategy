{
 "cells": [
  {
   "cell_type": "markdown",
   "metadata": {},
   "source": [
    "# HW Exercise 3"
   ]
  },
  {
   "cell_type": "markdown",
   "metadata": {},
   "source": [
    "## A Data\n",
    "The data is obtained from Blooberg, which includes the week prices (09/07/2021,09/14/2021,09/21/2021,09/28/2021) of top 100 current market cap rank constituents of S&P 500 index."
   ]
  },
  {
   "cell_type": "code",
   "execution_count": 1,
   "metadata": {
    "scrolled": true
   },
   "outputs": [
    {
     "data": {
      "text/html": [
       "<div>\n",
       "<style scoped>\n",
       "    .dataframe tbody tr th:only-of-type {\n",
       "        vertical-align: middle;\n",
       "    }\n",
       "\n",
       "    .dataframe tbody tr th {\n",
       "        vertical-align: top;\n",
       "    }\n",
       "\n",
       "    .dataframe thead th {\n",
       "        text-align: right;\n",
       "    }\n",
       "</style>\n",
       "<table border=\"1\" class=\"dataframe\">\n",
       "  <thead>\n",
       "    <tr style=\"text-align: right;\">\n",
       "      <th></th>\n",
       "      <th>AAPL UW Equity</th>\n",
       "      <th>MSFT UW Equity</th>\n",
       "      <th>GOOG UW Equity</th>\n",
       "      <th>GOOGL UW Equity</th>\n",
       "      <th>AMZN UW Equity</th>\n",
       "      <th>FB UW Equity</th>\n",
       "      <th>TSLA UW Equity</th>\n",
       "      <th>BRK/B UN Equity</th>\n",
       "      <th>NVDA UW Equity</th>\n",
       "      <th>JPM UN Equity</th>\n",
       "      <th>...</th>\n",
       "      <th>ADI UW Equity</th>\n",
       "      <th>ZTS UN Equity</th>\n",
       "      <th>COP UN Equity</th>\n",
       "      <th>USB UN Equity</th>\n",
       "      <th>MO UN Equity</th>\n",
       "      <th>GILD UW Equity</th>\n",
       "      <th>TJX UN Equity</th>\n",
       "      <th>PNC UN Equity</th>\n",
       "      <th>ADP UW Equity</th>\n",
       "      <th>LRCX UW Equity</th>\n",
       "    </tr>\n",
       "  </thead>\n",
       "  <tbody>\n",
       "    <tr>\n",
       "      <td>2021-09-07</td>\n",
       "      <td>156.69</td>\n",
       "      <td>300.18</td>\n",
       "      <td>2910.38</td>\n",
       "      <td>2885.61</td>\n",
       "      <td>3509.29</td>\n",
       "      <td>382.18</td>\n",
       "      <td>752.92</td>\n",
       "      <td>278.90</td>\n",
       "      <td>226.62</td>\n",
       "      <td>159.21</td>\n",
       "      <td>...</td>\n",
       "      <td>163.27</td>\n",
       "      <td>207.81</td>\n",
       "      <td>55.98</td>\n",
       "      <td>55.83</td>\n",
       "      <td>50.79</td>\n",
       "      <td>71.19</td>\n",
       "      <td>69.85</td>\n",
       "      <td>192.21</td>\n",
       "      <td>202.23</td>\n",
       "      <td>593.19</td>\n",
       "    </tr>\n",
       "    <tr>\n",
       "      <td>2021-09-14</td>\n",
       "      <td>148.12</td>\n",
       "      <td>299.79</td>\n",
       "      <td>2868.12</td>\n",
       "      <td>2850.89</td>\n",
       "      <td>3450.00</td>\n",
       "      <td>376.53</td>\n",
       "      <td>744.49</td>\n",
       "      <td>277.20</td>\n",
       "      <td>222.42</td>\n",
       "      <td>157.07</td>\n",
       "      <td>...</td>\n",
       "      <td>173.47</td>\n",
       "      <td>203.55</td>\n",
       "      <td>56.94</td>\n",
       "      <td>55.91</td>\n",
       "      <td>48.37</td>\n",
       "      <td>70.45</td>\n",
       "      <td>69.48</td>\n",
       "      <td>188.35</td>\n",
       "      <td>199.74</td>\n",
       "      <td>603.50</td>\n",
       "    </tr>\n",
       "    <tr>\n",
       "      <td>2021-09-21</td>\n",
       "      <td>143.43</td>\n",
       "      <td>294.80</td>\n",
       "      <td>2792.93</td>\n",
       "      <td>2780.66</td>\n",
       "      <td>3343.63</td>\n",
       "      <td>357.48</td>\n",
       "      <td>739.38</td>\n",
       "      <td>273.18</td>\n",
       "      <td>212.46</td>\n",
       "      <td>152.98</td>\n",
       "      <td>...</td>\n",
       "      <td>170.57</td>\n",
       "      <td>201.01</td>\n",
       "      <td>59.33</td>\n",
       "      <td>57.10</td>\n",
       "      <td>48.03</td>\n",
       "      <td>71.73</td>\n",
       "      <td>69.29</td>\n",
       "      <td>183.97</td>\n",
       "      <td>197.05</td>\n",
       "      <td>586.22</td>\n",
       "    </tr>\n",
       "    <tr>\n",
       "      <td>2021-09-28</td>\n",
       "      <td>141.91</td>\n",
       "      <td>283.52</td>\n",
       "      <td>2723.68</td>\n",
       "      <td>2716.60</td>\n",
       "      <td>3315.96</td>\n",
       "      <td>340.65</td>\n",
       "      <td>777.56</td>\n",
       "      <td>276.79</td>\n",
       "      <td>206.99</td>\n",
       "      <td>166.08</td>\n",
       "      <td>...</td>\n",
       "      <td>171.29</td>\n",
       "      <td>192.77</td>\n",
       "      <td>67.80</td>\n",
       "      <td>60.42</td>\n",
       "      <td>48.27</td>\n",
       "      <td>69.97</td>\n",
       "      <td>70.08</td>\n",
       "      <td>197.72</td>\n",
       "      <td>197.28</td>\n",
       "      <td>585.97</td>\n",
       "    </tr>\n",
       "  </tbody>\n",
       "</table>\n",
       "<p>4 rows × 100 columns</p>\n",
       "</div>"
      ],
      "text/plain": [
       "            AAPL UW Equity  MSFT UW Equity  GOOG UW Equity  GOOGL UW Equity  \\\n",
       "2021-09-07          156.69          300.18         2910.38          2885.61   \n",
       "2021-09-14          148.12          299.79         2868.12          2850.89   \n",
       "2021-09-21          143.43          294.80         2792.93          2780.66   \n",
       "2021-09-28          141.91          283.52         2723.68          2716.60   \n",
       "\n",
       "            AMZN UW Equity  FB UW Equity  TSLA UW Equity  BRK/B UN Equity  \\\n",
       "2021-09-07         3509.29        382.18          752.92           278.90   \n",
       "2021-09-14         3450.00        376.53          744.49           277.20   \n",
       "2021-09-21         3343.63        357.48          739.38           273.18   \n",
       "2021-09-28         3315.96        340.65          777.56           276.79   \n",
       "\n",
       "            NVDA UW Equity  JPM UN Equity  ...  ADI UW Equity  ZTS UN Equity  \\\n",
       "2021-09-07          226.62         159.21  ...         163.27         207.81   \n",
       "2021-09-14          222.42         157.07  ...         173.47         203.55   \n",
       "2021-09-21          212.46         152.98  ...         170.57         201.01   \n",
       "2021-09-28          206.99         166.08  ...         171.29         192.77   \n",
       "\n",
       "            COP UN Equity  USB UN Equity  MO UN Equity  GILD UW Equity  \\\n",
       "2021-09-07          55.98          55.83         50.79           71.19   \n",
       "2021-09-14          56.94          55.91         48.37           70.45   \n",
       "2021-09-21          59.33          57.10         48.03           71.73   \n",
       "2021-09-28          67.80          60.42         48.27           69.97   \n",
       "\n",
       "            TJX UN Equity  PNC UN Equity  ADP UW Equity  LRCX UW Equity  \n",
       "2021-09-07          69.85         192.21         202.23          593.19  \n",
       "2021-09-14          69.48         188.35         199.74          603.50  \n",
       "2021-09-21          69.29         183.97         197.05          586.22  \n",
       "2021-09-28          70.08         197.72         197.28          585.97  \n",
       "\n",
       "[4 rows x 100 columns]"
      ]
     },
     "execution_count": 1,
     "metadata": {},
     "output_type": "execute_result"
    }
   ],
   "source": [
    "import pandas as pd\n",
    "import numpy as np\n",
    "\n",
    "data = pd.read_excel(\"sp500_top100.xlsx\",index_col=0)\n",
    "data.head()"
   ]
  },
  {
   "cell_type": "markdown",
   "metadata": {},
   "source": [
    "## B-C. Signal & Portfolio"
   ]
  },
  {
   "cell_type": "markdown",
   "metadata": {},
   "source": [
    "B. The signals are generated from log returns weekly. Since there are 4 weeks in total, 3 week of signals are generated and shown below.\n",
    "\n",
    "C. The portfolio positions for each week are shown above, where figures larger than 0 indicate long position, figures lower than 0 indicate short position. There are 20 stocks to long and 20 stocks to short each week, forming a 20*20 portfolio. "
   ]
  },
  {
   "cell_type": "markdown",
   "metadata": {},
   "source": [
    "The current signal weighting portfolio is not perfectly hedged because it did not eliminate market risk or account for volatility and correlations between stocks within the portfolio. \n",
    "\n",
    "My suggestions is that \n",
    "1) the market risk can be hedged out by directly hedging using SPX ETF using the method from Exercise 2;\n",
    "2) the weight of stocks can be further optimized by allocating the risk (volatility) of all stocks to the same level, which is called the risk-parity strategy to achieve higher risk-adjusted return and to be more resistent to market downturns. As for correlation, we can look at the covariance matrix of stocks and strategically chose low-correlated assets to optimize low-correlation target."
   ]
  },
  {
   "cell_type": "code",
   "execution_count": 2,
   "metadata": {},
   "outputs": [],
   "source": [
    "def CalSignal(data):\n",
    "    df_return = data.apply(lambda x: np.log(x/x.shift(1)).dropna())\n",
    "    \n",
    "    return df_return\n",
    "\n",
    "def CalWeight(signal, notional):\n",
    "    def quintile(x):\n",
    "        if x >= wk.quantile(q=0.8):\n",
    "            return 1\n",
    "        elif x <= wk.quantile(q=0.2):\n",
    "            return -1\n",
    "        else:\n",
    "            return 0\n",
    "    \n",
    "    pf_all = []\n",
    "    for i in range(signal.shape[0]):\n",
    "        wk = signal.iloc[i,:]\n",
    "        df_signal = wk-wk.median()\n",
    "        dirc_sig = wk.map(lambda x: quintile(x))\n",
    "        pf_wk = dirc_sig.copy()\n",
    "#         print(dirc_sig)\n",
    "        long_stock = wk[dirc_sig==1]\n",
    "        long_stock = long_stock / long_stock.sum()\n",
    "        pf_wk[long_stock.index] = long_stock\n",
    "        short_stock = wk[dirc_sig==-1]\n",
    "        short_stock = - short_stock / short_stock.sum()\n",
    "        pf_wk[short_stock.index] = short_stock\n",
    "        pf_all.append(pf_wk)\n",
    "    pf_all = pd.concat(pf_all,axis=1).T\n",
    "    pf_all_dollar = pf_all * notional/2\n",
    "    return pf_all, pf_all_dollar"
   ]
  },
  {
   "cell_type": "code",
   "execution_count": 3,
   "metadata": {
    "scrolled": true
   },
   "outputs": [
    {
     "name": "stdout",
     "output_type": "stream",
     "text": [
      "Signals (log return): \n",
      "             AAPL UW Equity  MSFT UW Equity  GOOG UW Equity  GOOGL UW Equity  \\\n",
      "2021-09-14       -0.056247       -0.001300       -0.014627        -0.012105   \n",
      "2021-09-21       -0.032176       -0.016785       -0.026566        -0.024943   \n",
      "2021-09-28       -0.010654       -0.039014       -0.025107        -0.023307   \n",
      "\n",
      "            AMZN UW Equity  FB UW Equity  TSLA UW Equity  BRK/B UN Equity  \\\n",
      "2021-09-14       -0.017040     -0.014894       -0.011260        -0.006114   \n",
      "2021-09-21       -0.031317     -0.051918       -0.006887        -0.014608   \n",
      "2021-09-28       -0.008310     -0.048224        0.050349         0.013128   \n",
      "\n",
      "            NVDA UW Equity  JPM UN Equity  ...  ADI UW Equity  ZTS UN Equity  \\\n",
      "2021-09-14       -0.018707      -0.013533  ...       0.060599      -0.020713   \n",
      "2021-09-21       -0.045814      -0.026384  ...      -0.016859      -0.012557   \n",
      "2021-09-28       -0.026083       0.082162  ...       0.004212      -0.041857   \n",
      "\n",
      "            COP UN Equity  USB UN Equity  MO UN Equity  GILD UW Equity  \\\n",
      "2021-09-14       0.017004       0.001432     -0.048820       -0.010449   \n",
      "2021-09-21       0.041117       0.021061     -0.007054        0.018006   \n",
      "2021-09-28       0.133447       0.056516      0.004984       -0.024842   \n",
      "\n",
      "            TJX UN Equity  PNC UN Equity  ADP UW Equity  LRCX UW Equity  \n",
      "2021-09-14      -0.005311      -0.020287      -0.012389        0.017231  \n",
      "2021-09-21      -0.002738      -0.023529      -0.013559       -0.029051  \n",
      "2021-09-28       0.011337       0.072079       0.001167       -0.000427  \n",
      "\n",
      "[3 rows x 100 columns]\n"
     ]
    }
   ],
   "source": [
    "all_return = CalSignal(data)\n",
    "print(\"Signals (log return): \\n\", all_return)"
   ]
  },
  {
   "cell_type": "code",
   "execution_count": 4,
   "metadata": {},
   "outputs": [
    {
     "name": "stdout",
     "output_type": "stream",
     "text": [
      "\n",
      "Positions of week 1 [$]: \n",
      " AAPL UW Equity     -58620.668481\n",
      "MSFT UW Equity      -4044.868782\n",
      "JNJ UN Equity      -46503.972167\n",
      "BAC UN Equity      -38014.781886\n",
      "HD UN Equity        39192.881363\n",
      "MA UN Equity         9822.593932\n",
      "PG UN Equity        41349.404268\n",
      "PYPL UW Equity     -39918.483583\n",
      "CRM UN Equity      -43493.520179\n",
      "NFLX UW Equity     -50956.041626\n",
      "XOM UN Equity        1710.591914\n",
      "CMCSA UW Equity    -84761.554595\n",
      "PFE UN Equity      -46500.292708\n",
      "KO UN Equity         1117.558027\n",
      "INTC UW Equity      50048.503032\n",
      "LLY UN Equity      -92813.141728\n",
      "PEP UW Equity       12458.002561\n",
      "AVGO UW Equity      32906.114477\n",
      "WFC UN Equity      119838.404584\n",
      "MRK UN Equity      -54483.977331\n",
      "MCD UN Equity       64402.411275\n",
      "TXN UW Equity       91426.816942\n",
      "TMUS UW Equity     -43928.125241\n",
      "PM UN Equity       -41088.443561\n",
      "CHTR UW Equity     -51991.494881\n",
      "INTU UW Equity      43000.836539\n",
      "SCHW UN Equity     -34545.019632\n",
      "BMY UN Equity      -50441.937253\n",
      "SBUX UW Equity      81416.401457\n",
      "UNP UN Equity      -48013.010248\n",
      "AMAT UW Equity      82108.495949\n",
      "ISRG UW Equity     -38548.743154\n",
      "DE UN Equity       -45148.621212\n",
      "SPGI UN Equity      33734.656010\n",
      "PLD UN Equity      -39347.857786\n",
      "ADI UW Equity      188541.798118\n",
      "COP UN Equity       52902.979404\n",
      "USB UN Equity        4455.030673\n",
      "MO UN Equity       -50880.312747\n",
      "LRCX UW Equity      53611.388257\n",
      "Name: 2021-09-14 00:00:00, dtype: float64\n",
      "\n",
      "Positions of week 2 [$]: \n",
      " AAPL UW Equity     -33341.588703\n",
      "AMZN UW Equity     -32452.024068\n",
      "FB UW Equity       -53799.664719\n",
      "NVDA UW Equity     -47473.896994\n",
      "UNH UN Equity       -1730.427308\n",
      "HD UN Equity        11764.136397\n",
      "DIS UN Equity      -65847.528504\n",
      "PYPL UW Equity     -47901.591185\n",
      "ADBE UW Equity       4865.239997\n",
      "CRM UN Equity       50149.373765\n",
      "CMCSA UW Equity     30043.866644\n",
      "ORCL UN Equity      21825.677361\n",
      "CSCO UW Equity     -47822.119260\n",
      "TMO UN Equity      213291.231453\n",
      "DHR UN Equity        6710.269231\n",
      "ABBV UN Equity      22383.506177\n",
      "MS UN Equity       -37372.963449\n",
      "TMUS UW Equity     -32826.573887\n",
      "MRNA UW Equity      52425.714596\n",
      "NEE UN Equity      -33847.440238\n",
      "QCOM UW Equity     -71340.884504\n",
      "LOW UN Equity       36516.364650\n",
      "AXP UN Equity       83812.163626\n",
      "GS UN Equity       -74074.081075\n",
      "BLK UN Equity      -67291.641152\n",
      "SBUX UW Equity     -59568.178461\n",
      "UNP UN Equity      -35233.685435\n",
      "RTX UN Equity       15922.127542\n",
      "NOW UN Equity       48216.853587\n",
      "AMAT UW Equity     -37340.483208\n",
      "GE UN Equity       -37417.890562\n",
      "CVS UN Equity        1701.102225\n",
      "EL UN Equity       -62089.543862\n",
      "CAT UN Equity      -66027.370239\n",
      "DE UN Equity       -56930.850494\n",
      "BKNG UW Equity      -4661.602826\n",
      "ANTM UN Equity     120629.930989\n",
      "COP UN Equity      146725.479451\n",
      "USB UN Equity       75155.413528\n",
      "GILD UW Equity      64253.578917\n",
      "Name: 2021-09-21 00:00:00, dtype: float64\n",
      "\n",
      "Positions of week 3 [$]: \n",
      " MSFT UW Equity    -37444.783299\n",
      "FB UW Equity      -46283.619930\n",
      "TSLA UW Equity     36284.724729\n",
      "NVDA UW Equity    -25033.818525\n",
      "JPM UN Equity      59211.727790\n",
      "UNH UN Equity     -32478.163914\n",
      "BAC UN Equity      70643.161229\n",
      "PYPL UW Equity    -26356.951627\n",
      "ADBE UW Equity   -105309.409851\n",
      "CRM UN Equity      38907.112851\n",
      "XOM UN Equity      79788.839947\n",
      "ORCL UN Equity     29007.702379\n",
      "NKE UN Equity     -62148.274314\n",
      "KO UN Equity      -25369.741070\n",
      "TMO UN Equity     -33683.474067\n",
      "DHR UN Equity     -63381.472484\n",
      "LLY UN Equity     -36417.563580\n",
      "ABT UN Equity     -50308.023081\n",
      "CVX UN Equity      61920.669736\n",
      "MRNA UW Equity   -117040.983706\n",
      "CHTR UW Equity    -26209.241538\n",
      "NEE UN Equity     -56086.209088\n",
      "C UN Equity        46180.996963\n",
      "SCHW UN Equity     77213.343031\n",
      "AXP UN Equity      42299.720215\n",
      "RTX UN Equity      31638.944829\n",
      "BA UN Equity       33429.596871\n",
      "AMT UN Equity     -79206.529145\n",
      "NOW UN Equity     -63182.853945\n",
      "GE UN Equity       63443.976964\n",
      "TGT UN Equity     -31823.276785\n",
      "CAT UN Equity      39551.627326\n",
      "DE UN Equity       35451.663707\n",
      "SPGI UN Equity    -42062.791023\n",
      "BKNG UW Equity     32455.691864\n",
      "LMT UN Equity      33725.239034\n",
      "ZTS UN Equity     -40172.819029\n",
      "COP UN Equity      96170.920561\n",
      "USB UN Equity      40729.254149\n",
      "PNC UN Equity      51945.085825\n",
      "Name: 2021-09-28 00:00:00, dtype: float64\n"
     ]
    }
   ],
   "source": [
    "# Portfolio weight\n",
    "pf_weight, pf_position = CalWeight(all_return, 2000000)\n",
    "for i in range(pf_position.shape[0]):\n",
    "    pf_position_use = pf_position.iloc[i,:]\n",
    "    pf_position_use = pf_position_use[pf_position_use != 0]\n",
    "    print(\"\\nPositions of week %s [$]: \\n\" % (i+1), pf_position_use)"
   ]
  },
  {
   "cell_type": "markdown",
   "metadata": {},
   "source": [
    "## D. Transaction cost\n",
    "1. Fill and Opportunity cost: if the trade amount (each stock) is lower than 10000 dollar, a lower fill cost is expected. If the trading amount is higher than 10000 dollar, higher fill cost is expected because of bid-ask spread. \n",
    "2. Fee_cost: A fixed percentage cost is expected for each trade. \n",
    "\n",
    "The figures are shown in the code."
   ]
  },
  {
   "cell_type": "code",
   "execution_count": 5,
   "metadata": {},
   "outputs": [],
   "source": [
    "def TS_Cost(pf_week):\n",
    "    \"\"\"Transaction cost function\"\"\"\n",
    "    \n",
    "    fill_1 = 0.00003 # fill cost + opportunitiy cost - 0.5 bps for lower than $50000\n",
    "    fill_2 = 0.00005 # fill cost + opportunitiy cost - 1 bps for higher than $50000\n",
    "    fee_cost = 0.00005 # 0.2 bps since notional for each trade is below 1m\n",
    "    \n",
    "    fee_add = pf_week.map(lambda x: abs(x)*(fill_1+fee_cost) if x < 50000 else abs(x)*(fill_2+fee_cost))\n",
    "    total_fee = fee_add.sum()\n",
    "    \n",
    "    return fee_add, total_fee"
   ]
  },
  {
   "cell_type": "code",
   "execution_count": 6,
   "metadata": {},
   "outputs": [
    {
     "name": "stdout",
     "output_type": "stream",
     "text": [
      "{'week 1': 176.3331, 'week 2': 177.1516, 'week 3': 171.2068}\n"
     ]
    }
   ],
   "source": [
    "total_fees = {}\n",
    "for i in range(pf_position.shape[0]):\n",
    "    pf_wk = pf_position.iloc[i,:]\n",
    "    wk_cost, wk_cost_sum = TS_Cost(pf_wk)\n",
    "    total_fees['week '+str(i+1)] = round(wk_cost_sum,4)\n",
    "print(total_fees)"
   ]
  },
  {
   "cell_type": "markdown",
   "metadata": {},
   "source": [
    "## E Backtest\n"
   ]
  },
  {
   "cell_type": "code",
   "execution_count": 7,
   "metadata": {
    "scrolled": true
   },
   "outputs": [
    {
     "name": "stdout",
     "output_type": "stream",
     "text": [
      "Total return: 650.12\n",
      "Total return: 6815.77\n"
     ]
    }
   ],
   "source": [
    "def Backtest(all_return, pf_position):\n",
    "    net_returns = []\n",
    "    for i in range(all_return.shape[0]-1):\n",
    "        pure_return = all_return.iloc[i+1,:] * pf_position.iloc[i,:]\n",
    "        wk_cost = TS_Cost(pf_position.iloc[i+1,:])[0]\n",
    "        net_return = pure_return - wk_cost\n",
    "        total_return = net_return.sum()\n",
    "        print(\"Total return: {:.2f}\".format(total_return))\n",
    "        net_returns.append(net_return)\n",
    "    net_returns = pd.concat(net_returns, axis=1).T\n",
    "    \n",
    "    return net_returns\n",
    "\n",
    "pf_net_return = Backtest(all_return, pf_position)\n",
    "pf_net_return.index = ['09140921','09210928']"
   ]
  },
  {
   "cell_type": "code",
   "execution_count": 8,
   "metadata": {
    "scrolled": true
   },
   "outputs": [
    {
     "name": "stdout",
     "output_type": "stream",
     "text": [
      "7465.89\n"
     ]
    }
   ],
   "source": [
    "pf_total_return = pf_net_return.sum(axis=1).sum()\n",
    "print(round(pf_total_return,2))"
   ]
  },
  {
   "cell_type": "markdown",
   "metadata": {},
   "source": [
    "The total return for week 09/14/2021 - 09/21/2021 is 650.12.\n",
    "\n",
    "The total return for week 09/21/2021 - 09/28/2021 is 6815.77.\n",
    "\n",
    "Total return is 7465.89"
   ]
  },
  {
   "cell_type": "code",
   "execution_count": 9,
   "metadata": {},
   "outputs": [],
   "source": [
    "# writer = pd.ExcelWriter(\"wq2155_result_hw3.xlsx\")\n",
    "# all_return.to_excel(writer, sheet_name='Signal')\n",
    "# pf_position.to_excel(writer, sheet_name='Portfolio Construction')\n",
    "# pf_net_return.to_excel(writer, sheet_name='Backtest')\n",
    "# writer.save()"
   ]
  }
 ],
 "metadata": {
  "kernelspec": {
   "display_name": "Python 3 (ipykernel)",
   "language": "python",
   "name": "python3"
  },
  "language_info": {
   "codemirror_mode": {
    "name": "ipython",
    "version": 3
   },
   "file_extension": ".py",
   "mimetype": "text/x-python",
   "name": "python",
   "nbconvert_exporter": "python",
   "pygments_lexer": "ipython3",
   "version": "3.8.8"
  }
 },
 "nbformat": 4,
 "nbformat_minor": 4
}
